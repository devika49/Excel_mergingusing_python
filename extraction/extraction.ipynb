{
 "cells": [
  {
   "cell_type": "code",
   "execution_count": 1,
   "metadata": {},
   "outputs": [
    {
     "name": "stdout",
     "output_type": "stream",
     "text": [
      "Defaulting to user installation because normal site-packages is not writeable\n",
      "Requirement already satisfied: pandas in c:\\users\\user\\appdata\\roaming\\python\\python312\\site-packages (2.2.2)\n",
      "Requirement already satisfied: numpy>=1.26.0 in c:\\users\\user\\appdata\\roaming\\python\\python312\\site-packages (from pandas) (1.26.4)\n",
      "Requirement already satisfied: python-dateutil>=2.8.2 in c:\\users\\user\\appdata\\roaming\\python\\python312\\site-packages (from pandas) (2.9.0.post0)\n",
      "Requirement already satisfied: pytz>=2020.1 in c:\\users\\user\\appdata\\roaming\\python\\python312\\site-packages (from pandas) (2024.1)\n",
      "Requirement already satisfied: tzdata>=2022.7 in c:\\users\\user\\appdata\\roaming\\python\\python312\\site-packages (from pandas) (2024.1)\n",
      "Requirement already satisfied: six>=1.5 in c:\\users\\user\\appdata\\roaming\\python\\python312\\site-packages (from python-dateutil>=2.8.2->pandas) (1.16.0)\n",
      "Note: you may need to restart the kernel to use updated packages.\n"
     ]
    }
   ],
   "source": [
    "%pip install pandas"
   ]
  },
  {
   "cell_type": "code",
   "execution_count": 2,
   "metadata": {},
   "outputs": [
    {
     "name": "stdout",
     "output_type": "stream",
     "text": [
      "   Sr no                                               Name     Client Name  \\\n",
      "0      1                                      A B LOGISTICS        SATVANT    \n",
      "1      2                          A D MEHTA CLEARING AGENCY   DEVANG MEHTA    \n",
      "2      3                                A R SHIPPING AGENCY       AMARENDRA   \n",
      "3      4  A S CLEARING AND FORWARDING INDIA PRIVATE LIMITED  AVDHES TIWARI    \n",
      "4      5                                       A T P & SONS  YOGESH PARMAR    \n",
      "\n",
      "                                             Address        Unnamed: 4  \\\n",
      "0  208, 2ND FLOOR,DENA BANK BUILDING, NIRAV CHAMB...        Gandhidham   \n",
      "1  OFFICE NO. 21, 22 ,1ST FLOOR,,KASEZIA BUILDING...        Gandhidham   \n",
      "2  130 MODI STREET,,LOKHNDWALA BUILDING,4TH FLOOR...            Mumbai   \n",
      "3  I-39,301.,POONAM SAGAR COMPLEX,OPP-SECTOR-09,M...  Mira Road (East)   \n",
      "4  1ST FLOOR,ATP HOUSE,BHALPARA ROAD,NEAR BHALKA ...            Bhalka   \n",
      "\n",
      "      Contact                       Website    Feedback call  \n",
      "0  9825239223                           NaN   NOT ANSWERING   \n",
      "1  9727707625  http://www.mcsconsultants.in   NOT ANSWERING   \n",
      "2  9428506329                           NaN            BUSY   \n",
      "3  7777030843                           NaN      NOT IN USE   \n",
      "4  9825221399                           NaN  NO REQUIREMENT   \n"
     ]
    }
   ],
   "source": [
    "import pandas as pd\n",
    "\n",
    "#Read the csv file into a pandas DataFrame\n",
    "df = pd.read_csv('D:/Excel_mergingusing_python/extraction/CHA Data - CHA Data.csv')\n",
    "\n",
    "\n",
    "#Display the first few rows of the Dataframe\n",
    "print(df.head())"
   ]
  },
  {
   "cell_type": "code",
   "execution_count": 4,
   "metadata": {},
   "outputs": [
    {
     "name": "stdout",
     "output_type": "stream",
     "text": [
      "Extracted specific column saved to csv file\n"
     ]
    }
   ],
   "source": [
    "import pandas as pd\n",
    "\n",
    "#Read the csv file\n",
    "df =pd.read_csv('D:/Excel_mergingusing_python/extraction/CHA Data - CHA Data.csv')\n",
    "\n",
    "#Extract the specific column in the csv file\n",
    "column_data = df[['Address']]\n",
    "\n",
    "#save the extracted column into a new csv file\n",
    "column_data.to_csv('D:/Excel_mergingusing_python/extraction/extracted_data.csv',index=False)\n",
    "#print the extracted column\n",
    "print(\"Extracted specific column saved to csv file\")"
   ]
  },
  {
   "cell_type": "code",
   "execution_count": 7,
   "metadata": {},
   "outputs": [
    {
     "name": "stdout",
     "output_type": "stream",
     "text": [
      "City extraction complete. Results saved to 'extracted_cities.csv'.\n"
     ]
    }
   ],
   "source": [
    "import pandas as pd\n",
    "import re\n",
    "\n",
    "# Step 2: Read the CSV file containing addresses\n",
    "df = pd.read_csv('D:/Excel_mergingusing_python/extraction/extracted_data.csv')\n",
    "\n",
    "# Step 3: Define a function to extract city names\n",
    "def extract_city(address):\n",
    "    # Use regex to find potential city names before postal codes\n",
    "    match = re.search(r'([A-Za-z\\s\\-]+)(?=,\\s*\\d{6})', address)\n",
    "    if match:\n",
    "        return match.group(1).strip()  # Return matched city name\n",
    "    return None  # Return None if no match found\n",
    "\n",
    "# Step 4: Apply the function to the Address column\n",
    "df['City'] = df['Address'].apply(extract_city)\n",
    "\n",
    "# Step 5: Save the results to a new CSV file\n",
    "df[['Address', 'City']].to_csv('D:/Excel_mergingusing_python/extraction/extracted_cities.csv', index=False)\n",
    "\n",
    "print(\"City extraction complete. Results saved to 'extracted_cities.csv'.\")\n"
   ]
  },
  {
   "cell_type": "code",
   "execution_count": 12,
   "metadata": {},
   "outputs": [],
   "source": [
    "def capitalize_first_letter(text):\n",
    "  \"\"\"\n",
    "  Capitalizes the first letter of each word in the given text (if it's a string).\n",
    "\n",
    "  Args:\n",
    "    text: The input text string (or number).\n",
    "\n",
    "  Returns:\n",
    "    The text with the first letter capitalized (if it's a string), or the original text (if it's a number).\n",
    "  \"\"\"\n",
    "  if isinstance(text, str):\n",
    "    words = text.split()\n",
    "    capitalized_words = [word.capitalize() for word in words]\n",
    "    return ' '.join(capitalized_words)\n",
    "  else:\n",
    "    return text  # Return the original text if it's not a string\n",
    "\n",
    "# Apply the function to the 'City' column\n",
    "df['City'] = df['City'].apply(capitalize_first_letter)"
   ]
  },
  {
   "cell_type": "code",
   "execution_count": 13,
   "metadata": {},
   "outputs": [],
   "source": [
    "# Assuming the non-string values in 'City' are actually convertible to strings\n",
    "df['City'] = df['City'].astype(str)\n",
    "\n",
    "# Apply the function to the 'City' column (now containing strings)\n",
    "df['City'] = df['City'].apply(capitalize_first_letter)"
   ]
  },
  {
   "cell_type": "code",
   "execution_count": 16,
   "metadata": {},
   "outputs": [],
   "source": [
    "def capitalize_first_letter(text):\n",
    "  try:\n",
    "    words = text.split()\n",
    "    capitalized_words = [word.capitalize() for word in words]\n",
    "    return ' '.join(capitalized_words)\n",
    "  except AttributeError:\n",
    "    return text  # Return the original text if an error occurs\n",
    "\n",
    "# Apply the function to the 'City' column\n",
    "df['City'] = df['City'].apply(capitalize_first_letter)"
   ]
  },
  {
   "cell_type": "code",
   "execution_count": 17,
   "metadata": {},
   "outputs": [
    {
     "name": "stdout",
     "output_type": "stream",
     "text": [
      "                                               Address  \\\n",
      "0    208, 2ND FLOOR,DENA BANK BUILDING, NIRAV CHAMB...   \n",
      "1    OFFICE NO. 21, 22 ,1ST FLOOR,,KASEZIA BUILDING...   \n",
      "2    130 MODI STREET,,LOKHNDWALA BUILDING,4TH FLOOR...   \n",
      "3    I-39,301.,POONAM SAGAR COMPLEX,OPP-SECTOR-09,M...   \n",
      "4    1ST FLOOR,ATP HOUSE,BHALPARA ROAD,NEAR BHALKA ...   \n",
      "..                                                 ...   \n",
      "414  WESTWIND HOUSE, PLOT NO. 54,,SECTOR 2, BEHIND ...   \n",
      "415  4-5,KAMALA RESIDENCY , NEAR TAJ HARI HOTEL,RES...   \n",
      "416  205, AMBICA ARCADE,,PLOT NO 300, WARD 12/B,,AB...   \n",
      "417  209-211,TRADE CENTRE,PLOT NO. 46,SECTOR 8 GAND...   \n",
      "418  SURYA HEIGHTS, 211, DC-2,B/H HOTEL EMPIRE,GAND...   \n",
      "\n",
      "                             City  \n",
      "0                  Banking Circle  \n",
      "1                      Gandhidham  \n",
      "2                          Mumbai  \n",
      "3                             Nan  \n",
      "4    Near Bhalka Railway Crossing  \n",
      "..                            ...  \n",
      "414                       Gujarat  \n",
      "415                     Rajasthan  \n",
      "416                    Gandhidham  \n",
      "417                    Gandhidham  \n",
      "418                           Nan  \n",
      "\n",
      "[419 rows x 2 columns]\n"
     ]
    }
   ],
   "source": [
    "# Print the updated DataFrame\n",
    "print(df)\n",
    "\n",
    "# Optionally, save the updated DataFrame to a new CSV file\n",
    "df.to_csv('output_file_name.csv', index=False) "
   ]
  }
 ],
 "metadata": {
  "kernelspec": {
   "display_name": "Python 3",
   "language": "python",
   "name": "python3"
  },
  "language_info": {
   "codemirror_mode": {
    "name": "ipython",
    "version": 3
   },
   "file_extension": ".py",
   "mimetype": "text/x-python",
   "name": "python",
   "nbconvert_exporter": "python",
   "pygments_lexer": "ipython3",
   "version": "3.12.5"
  }
 },
 "nbformat": 4,
 "nbformat_minor": 2
}
