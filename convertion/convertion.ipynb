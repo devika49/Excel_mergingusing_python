{
 "cells": [
  {
   "cell_type": "code",
   "execution_count": 1,
   "metadata": {},
   "outputs": [
    {
     "name": "stdout",
     "output_type": "stream",
     "text": [
      "Defaulting to user installation because normal site-packages is not writeable\n",
      "Requirement already satisfied: pandas in c:\\users\\user\\appdata\\roaming\\python\\python312\\site-packages (2.2.2)\n",
      "Requirement already satisfied: numpy>=1.26.0 in c:\\users\\user\\appdata\\roaming\\python\\python312\\site-packages (from pandas) (1.26.4)\n",
      "Requirement already satisfied: python-dateutil>=2.8.2 in c:\\users\\user\\appdata\\roaming\\python\\python312\\site-packages (from pandas) (2.9.0.post0)\n",
      "Requirement already satisfied: pytz>=2020.1 in c:\\users\\user\\appdata\\roaming\\python\\python312\\site-packages (from pandas) (2024.1)\n",
      "Requirement already satisfied: tzdata>=2022.7 in c:\\users\\user\\appdata\\roaming\\python\\python312\\site-packages (from pandas) (2024.1)\n",
      "Requirement already satisfied: six>=1.5 in c:\\users\\user\\appdata\\roaming\\python\\python312\\site-packages (from python-dateutil>=2.8.2->pandas) (1.16.0)\n",
      "Note: you may need to restart the kernel to use updated packages.\n"
     ]
    }
   ],
   "source": [
    "%pip install pandas"
   ]
  },
  {
   "cell_type": "code",
   "execution_count": 1,
   "metadata": {},
   "outputs": [
    {
     "name": "stdout",
     "output_type": "stream",
     "text": [
      "Defaulting to user installation because normal site-packages is not writeable\n",
      "Requirement already satisfied: pandas in c:\\users\\user\\appdata\\roaming\\python\\python312\\site-packages (2.2.2)\n",
      "Requirement already satisfied: openpyxl in c:\\users\\user\\appdata\\roaming\\python\\python312\\site-packages (3.1.5)\n",
      "Requirement already satisfied: numpy>=1.26.0 in c:\\users\\user\\appdata\\roaming\\python\\python312\\site-packages (from pandas) (1.26.4)\n",
      "Requirement already satisfied: python-dateutil>=2.8.2 in c:\\users\\user\\appdata\\roaming\\python\\python312\\site-packages (from pandas) (2.9.0.post0)\n",
      "Requirement already satisfied: pytz>=2020.1 in c:\\users\\user\\appdata\\roaming\\python\\python312\\site-packages (from pandas) (2024.1)\n",
      "Requirement already satisfied: tzdata>=2022.7 in c:\\users\\user\\appdata\\roaming\\python\\python312\\site-packages (from pandas) (2024.1)\n",
      "Requirement already satisfied: et-xmlfile in c:\\users\\user\\appdata\\roaming\\python\\python312\\site-packages (from openpyxl) (1.1.0)\n",
      "Requirement already satisfied: six>=1.5 in c:\\users\\user\\appdata\\roaming\\python\\python312\\site-packages (from python-dateutil>=2.8.2->pandas) (1.16.0)\n",
      "Note: you may need to restart the kernel to use updated packages.\n"
     ]
    }
   ],
   "source": [
    "%pip install pandas openpyxl\n"
   ]
  },
  {
   "cell_type": "code",
   "execution_count": 2,
   "metadata": {},
   "outputs": [
    {
     "name": "stdout",
     "output_type": "stream",
     "text": [
      "Excel file has been successfully converted to CSV: output_file.csv\n"
     ]
    }
   ],
   "source": [
    "import pandas as pd\n",
    "\n",
    "# Load the Excel file\n",
    "excel_file = r\"D:/Excel_mergingusing_python/convertion/Copy of MPCB_&_CPCB_DATA_PLASTIC_WASTE(1).xlsx\"  # Replace with your Excel file path\n",
    "sheet_name = \"MPCB Plastic Waste\"  # Replace with the name of the sheet you want to convert\n",
    "\n",
    "# Read the Excel file into a DataFrame\n",
    "df = pd.read_excel(excel_file, sheet_name=sheet_name)\n",
    "\n",
    "# Save the DataFrame to a CSV file\n",
    "csv_file = \"output_file.csv\"  # Replace with your desired CSV file path\n",
    "df.to_csv(csv_file, index=False)\n",
    "\n",
    "print(f\"Excel file has been successfully converted to CSV: {csv_file}\")\n"
   ]
  },
  {
   "cell_type": "code",
   "execution_count": 3,
   "metadata": {},
   "outputs": [
    {
     "name": "stdout",
     "output_type": "stream",
     "text": [
      "Column 'QUANTITY' has been successfully extracted to CSV.\n"
     ]
    }
   ],
   "source": [
    "import pandas as pd\n",
    "\n",
    "def extract_column_to_csv(csv_file_path, column_name, output_csv_path):\n",
    "    \"\"\"\n",
    "    Extract a specific column from a CSV file and save it as a CSV file.\n",
    "    \n",
    "    Parameters:\n",
    "    - csv_file_path: Path to the CSV file\n",
    "    - column_name: The name of the column to extract\n",
    "    - output_csv_path: Path to save the extracted column as a CSV file\n",
    "    \"\"\"\n",
    "    try:\n",
    "        # Read the CSV file\n",
    "        sheet_data = pd.read_csv(csv_file_path)\n",
    "        \n",
    "        # Check if the column exists in the sheet\n",
    "        if column_name in sheet_data.columns:\n",
    "            # Extract the column and save it to CSV\n",
    "            sheet_data[[column_name]].dropna().to_csv(output_csv_path, index=False)\n",
    "            print(f\"Column '{column_name}' has been successfully extracted to CSV.\")\n",
    "        else:\n",
    "            print(f\"Column '{column_name}' not found in the CSV file.\")\n",
    "    except Exception as e:\n",
    "        print(f\"Error: {e}\")\n",
    "\n",
    "# Example usage with absolute path\n",
    "csv_file_path = r'D:/Excel_mergingusing_python/convertion/output_file.csv'  # Adjust with the correct path\n",
    "column_name = 'QUANTITY'  # Replace with the column name you want to extract\n",
    "output_csv_path = 'convertion_file.csv'  # Path to save the output CSV file\n",
    "\n",
    "extract_column_to_csv(csv_file_path, column_name, output_csv_path)\n"
   ]
  },
  {
   "cell_type": "code",
   "execution_count": 2,
   "metadata": {},
   "outputs": [
    {
     "name": "stdout",
     "output_type": "stream",
     "text": [
      "Conversion completed. Updated file saved as: final.csv\n"
     ]
    }
   ],
   "source": [
    "import pandas as pd\n",
    "import re\n",
    "import os\n",
    "\n",
    "# Verify the file exists\n",
    "input_file = r\"D:/Excel_mergingusing_python/convertion/output_file.csv\"\n",
    "if not os.path.exists(input_file):\n",
    "    print(f\"Error: File '{input_file}' not found.\")\n",
    "else:\n",
    "    # Process the file if it exists\n",
    "    output_file = \"final.csv\"  # Replace with your desired output file path\n",
    "\n",
    "    # Read the CSV file into a DataFrame\n",
    "    df = pd.read_csv(input_file)\n",
    "\n",
    "    # Define a function to convert various units to MT/A\n",
    "    def convert_to_mta(quantity):\n",
    "        try:\n",
    "            # Find all patterns for MT/M, T/M, T/A, or other units\n",
    "            matches = re.findall(r\"(\\d+(?:\\.\\d+)?)\\s*(MT/M|T/M|Kg/D|KL/D|Lit/M|Kg/M|T/A)\", quantity, flags=re.IGNORECASE)\n",
    "            converted = []\n",
    "            \n",
    "            for value, unit in matches:\n",
    "                value = float(value)\n",
    "                if unit.lower() == \"mt/m\":\n",
    "                    converted.append(f\"{value * 12:.2f} MT/A\")\n",
    "                elif unit.lower() == \"t/m\":\n",
    "                    converted.append(f\"{value * 12:.2f} T/A\")\n",
    "                elif unit.lower() == \"kg/d\":\n",
    "                    converted.append(f\"{value * 365 / 1000:.2f} MT/A\")  # Convert Kg/day to MT/A\n",
    "                elif unit.lower() == \"kl/d\":\n",
    "                    converted.append(f\"{value * 365:.2f} KL/A\")  # Convert KL/day to KL/A\n",
    "                elif unit.lower() == \"lit/m\":\n",
    "                    converted.append(f\"{value * 12 / 1000:.2f} KL/A\")  # Convert Lit/month to KL/A\n",
    "                elif unit.lower() == \"kg/m\":\n",
    "                    converted.append(f\"{value * 12 / 1000:.2f} MT/A\")  # Convert Kg/month to MT/A\n",
    "                elif unit.lower() == \"t/a\":\n",
    "                    converted.append(f\"{value:.2f} MT/A\")  # T/A is equivalent to MT/A\n",
    "\n",
    "            # Rebuild the string with converted values\n",
    "            if converted:\n",
    "                return \"; \".join(converted)\n",
    "            else:\n",
    "                return quantity  # Return as is if no matches found\n",
    "        except Exception as e:\n",
    "            print(f\"Error processing quantity '{quantity}': {e}\")\n",
    "            return quantity\n",
    "\n",
    "    # Apply the conversion\n",
    "    df['QUANTITY'] = df['QUANTITY'].astype(str).apply(convert_to_mta)\n",
    "\n",
    "    # Save the updated DataFrame\n",
    "    df.to_csv(output_file, index=False)\n",
    "    print(f\"Conversion completed. Updated file saved as: {output_file}\")\n"
   ]
  },
  {
   "cell_type": "code",
   "execution_count": 6,
   "metadata": {},
   "outputs": [
    {
     "name": "stdout",
     "output_type": "stream",
     "text": [
      "CSV file has been successfully converted to Excel and saved as: D:/Excel_mergingusing_python/convertion/MT_A_file.xlsx\n"
     ]
    }
   ],
   "source": [
    "import pandas as pd\n",
    "\n",
    "# Define the input CSV file path\n",
    "input_csv = r\"D:/Excel_mergingusing_python/convertion/final.csv\"  # Replace with your actual CSV file path\n",
    "\n",
    "# Define the output Excel file path\n",
    "output_excel = r\"D:/Excel_mergingusing_python/convertion/MT_A_file.xlsx\"  # Full path for output file\n",
    "\n",
    "# Read the CSV file\n",
    "df = pd.read_csv(input_csv)\n",
    "\n",
    "# Save the DataFrame to an Excel file\n",
    "try:\n",
    "    df.to_excel(output_excel, index=False)\n",
    "    print(f\"CSV file has been successfully converted to Excel and saved as: {output_excel}\")\n",
    "except OSError as e:\n",
    "    print(f\"Error saving file: {e}\")\n"
   ]
  }
 ],
 "metadata": {
  "kernelspec": {
   "display_name": "Python 3",
   "language": "python",
   "name": "python3"
  },
  "language_info": {
   "codemirror_mode": {
    "name": "ipython",
    "version": 3
   },
   "file_extension": ".py",
   "mimetype": "text/x-python",
   "name": "python",
   "nbconvert_exporter": "python",
   "pygments_lexer": "ipython3",
   "version": "3.12.5"
  }
 },
 "nbformat": 4,
 "nbformat_minor": 2
}
